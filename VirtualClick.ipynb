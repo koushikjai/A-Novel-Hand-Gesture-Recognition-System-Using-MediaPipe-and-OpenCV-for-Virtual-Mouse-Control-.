{
 "cells": [
  {
   "cell_type": "code",
   "execution_count": 2,
   "id": "cede2d7b",
   "metadata": {},
   "outputs": [
    {
     "ename": "ModuleNotFoundError",
     "evalue": "No module named 'mediapipe'",
     "output_type": "error",
     "traceback": [
      "\u001b[1;31m---------------------------------------------------------------------------\u001b[0m",
      "\u001b[1;31mModuleNotFoundError\u001b[0m                       Traceback (most recent call last)",
      "\u001b[1;32m~\\AppData\\Local\\Temp\\ipykernel_6436\\3806358431.py\u001b[0m in \u001b[0;36m<module>\u001b[1;34m\u001b[0m\n\u001b[0;32m      1\u001b[0m \u001b[1;32mimport\u001b[0m \u001b[0mcv2\u001b[0m\u001b[1;33m\u001b[0m\u001b[1;33m\u001b[0m\u001b[0m\n\u001b[1;32m----> 2\u001b[1;33m \u001b[1;32mimport\u001b[0m \u001b[0mmediapipe\u001b[0m \u001b[1;32mas\u001b[0m \u001b[0mmp\u001b[0m\u001b[1;33m\u001b[0m\u001b[1;33m\u001b[0m\u001b[0m\n\u001b[0m\u001b[0;32m      3\u001b[0m \u001b[1;32mimport\u001b[0m \u001b[0mpyautogui\u001b[0m\u001b[1;33m\u001b[0m\u001b[1;33m\u001b[0m\u001b[0m\n\u001b[0;32m      4\u001b[0m \u001b[1;32mimport\u001b[0m \u001b[0mnumpy\u001b[0m \u001b[1;32mas\u001b[0m \u001b[0mnp\u001b[0m\u001b[1;33m\u001b[0m\u001b[1;33m\u001b[0m\u001b[0m\n",
      "\u001b[1;31mModuleNotFoundError\u001b[0m: No module named 'mediapipe'"
     ]
    }
   ],
   "source": [
    "import cv2\n",
    "import mediapipe as mp\n",
    "import pyautogui\n",
    "import numpy as np"
   ]
  },
  {
   "cell_type": "code",
   "execution_count": null,
   "id": "9fae24e2",
   "metadata": {},
   "outputs": [],
   "source": [
    "# Initialize Mediapipe and PyAutoGUI\n",
    "mp_hands = mp.solutions.hands\n",
    "mp_drawing = mp.solutions.drawing_utils\n",
    "hands = mp_hands.Hands(max_num_hands=1, min_detection_confidence=0.7)\n",
    "screen_width, screen_height = pyautogui.size()\n",
    "camera = cv2.VideoCapture(0)"
   ]
  },
  {
   "cell_type": "code",
   "execution_count": null,
   "id": "05ad97ed",
   "metadata": {},
   "outputs": [],
   "source": [
    "# Smoothing parameters for Exponential Moving Average (EMA)\n",
    "smooth_factor = 0.6  # Increased smoothing factor for smoother movement\n",
    "ema_x, ema_y = 0, 0  # Initial EMA positions"
   ]
  },
  {
   "cell_type": "code",
   "execution_count": null,
   "id": "20bca43d",
   "metadata": {},
   "outputs": [],
   "source": [
    "# Main loop\n",
    "while True:\n",
    "    success, image = camera.read()\n",
    "    if not success:\n",
    "        break"
   ]
  },
  {
   "cell_type": "code",
   "execution_count": null,
   "id": "fa526e0f",
   "metadata": {},
   "outputs": [],
   "source": [
    "# Flip the image for mirror effect and convert the color to RGB\n",
    "    image = cv2.flip(image, 1)\n",
    "    rgb_image = cv2.cvtColor(image, cv2.COLOR_BGR2RGB)\n",
    "    result = hands.process(rgb_image)\n",
    "    image_height, image_width, _ = image.shape"
   ]
  },
  {
   "cell_type": "code",
   "execution_count": null,
   "id": "4c758a48",
   "metadata": {},
   "outputs": [],
   "source": [
    "    # Process hand landmarks\n",
    "    if result.multi_hand_landmarks:\n",
    "        for hand_landmarks in result.multi_hand_landmarks:\n",
    "            mp_drawing.draw_landmarks(image, hand_landmarks, mp_hands.HAND_CONNECTIONS)\n"
   ]
  },
  {
   "cell_type": "code",
   "execution_count": null,
   "id": "a806d56b",
   "metadata": {},
   "outputs": [],
   "source": [
    "# Get the index finger tip coordinates (landmark ID 8)\n",
    "            index_finger_tip = hand_landmarks.landmark[8]\n",
    "            x = int(index_finger_tip.x * image_width)\n",
    "            y = int(index_finger_tip.y * image_height)"
   ]
  },
  {
   "cell_type": "code",
   "execution_count": null,
   "id": "2b53e80b",
   "metadata": {},
   "outputs": [],
   "source": [
    " # Convert the coordinates to screen space\n",
    "            screen_x = np.interp(x, (0, image_width), (0, screen_width))\n",
    "            screen_y = np.interp(y, (0, image_height), (0, screen_height))"
   ]
  },
  {
   "cell_type": "code",
   "execution_count": null,
   "id": "097b0e47",
   "metadata": {},
   "outputs": [],
   "source": [
    " # Apply Exponential Moving Average (EMA) for smoothing\n",
    "            ema_x = smooth_factor * screen_x + (1 - smooth_factor) * ema_x\n",
    "            ema_y = smooth_factor * screen_y + (1 - smooth_factor) * ema_y"
   ]
  },
  {
   "cell_type": "code",
   "execution_count": null,
   "id": "9fcf6e76",
   "metadata": {},
   "outputs": [],
   "source": [
    " # Move the mouse to the smoothed EMA position\n",
    "            pyautogui.moveTo(ema_x, ema_y)"
   ]
  },
  {
   "cell_type": "code",
   "execution_count": null,
   "id": "17afed71",
   "metadata": {},
   "outputs": [],
   "source": [
    "# Draw circle at index finger tip for visualization\n",
    "            cv2.circle(image, (x, y), 10, (0, 255, 255), cv2.FILLED)\n"
   ]
  },
  {
   "cell_type": "code",
   "execution_count": null,
   "id": "6cf3df34",
   "metadata": {},
   "outputs": [],
   "source": [
    " # Click detection using a threshold on vertical distance\n",
    "            thumb_tip = hand_landmarks.landmark[4]\n",
    "            thumb_x = int(thumb_tip.x * image_width)\n",
    "            thumb_y = int(thumb_tip.y * image_height)"
   ]
  },
  {
   "cell_type": "code",
   "execution_count": null,
   "id": "a2f6472c",
   "metadata": {},
   "outputs": [],
   "source": [
    " # Check distance between index finger tip and thumb tip\n",
    "            distance = np.hypot(x - thumb_x, y - thumb_y)\n",
    "            print(f\"Distance: {distance}\")\n"
   ]
  },
  {
   "cell_type": "code",
   "execution_count": null,
   "id": "65486856",
   "metadata": {},
   "outputs": [],
   "source": [
    " # If distance is less than threshold, perform a click\n",
    "            if distance < 30:\n",
    "                pyautogui.click()\n",
    "                pyautogui.sleep(0.1)  # Add a small delay to prevent multiple clicks"
   ]
  },
  {
   "cell_type": "code",
   "execution_count": null,
   "id": "e16bdc21",
   "metadata": {},
   "outputs": [],
   "source": [
    "    # Display the resulting frame\n",
    "    cv2.imshow(\"Hand Movement Video Capture\", image)\n"
   ]
  },
  {
   "cell_type": "code",
   "execution_count": null,
   "id": "778c0802",
   "metadata": {},
   "outputs": [],
   "source": [
    " # Exit the loop when 'Esc' key is pressed\n",
    "    if cv2.waitKey(1) & 0xFF == 27:\n",
    "        break"
   ]
  },
  {
   "cell_type": "code",
   "execution_count": null,
   "id": "820f031f",
   "metadata": {},
   "outputs": [],
   "source": [
    "# Release the camera and close all windows\n",
    "camera.release()\n",
    "cv2.destroyAllWindows()"
   ]
  },
  {
   "cell_type": "code",
   "execution_count": null,
   "id": "bace6266",
   "metadata": {},
   "outputs": [],
   "source": []
  }
 ],
 "metadata": {
  "kernelspec": {
   "display_name": "Python 3 (ipykernel)",
   "language": "python",
   "name": "python3"
  },
  "language_info": {
   "codemirror_mode": {
    "name": "ipython",
    "version": 3
   },
   "file_extension": ".py",
   "mimetype": "text/x-python",
   "name": "python",
   "nbconvert_exporter": "python",
   "pygments_lexer": "ipython3",
   "version": "3.9.13"
  }
 },
 "nbformat": 4,
 "nbformat_minor": 5
}
